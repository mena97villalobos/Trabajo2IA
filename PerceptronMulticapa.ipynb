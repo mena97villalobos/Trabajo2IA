{
 "cells": [
  {
   "cell_type": "markdown",
   "metadata": {
    "colab_type": "text",
    "id": "jYQE37rOc539"
   },
   "source": [
    "![title](evema-logo.jpeg)\n",
    "\n",
    "-Instructor: M.Sc.Saul Calderon.\n",
    "\n",
    "- Autores: \n",
    "    - Saúl Calderón."
   ]
  },
  {
   "cell_type": "markdown",
   "metadata": {
    "colab_type": "text",
    "id": "wUzLyGMyc54C"
   },
   "source": [
    "# Perceptron multicapa"
   ]
  },
  {
   "cell_type": "markdown",
   "metadata": {
    "colab_type": "text",
    "id": "ftUddCIHc54H"
   },
   "source": [
    "**Importado de  Librerías**\n",
    "Se importarán las librerías:\n",
    "\n",
    "\n",
    "1.   Torch: Pytorch, librería para manipulación de matrices, grafos computacionales y redes neuronales\n",
    "2.   Numpy: Librería para manipulación de matrices\n",
    "3.   Pandas: Librería para manipular fuentes de datos, usada para escribir achivos .csv\n",
    "4.  Torchvision para manejo de conjuntos de datos y transformadas en redes de pytorch\n",
    "\n",
    "\n",
    "\n"
   ]
  },
  {
   "cell_type": "code",
   "execution_count": null,
   "metadata": {
    "colab": {},
    "colab_type": "code",
    "id": "eC4zSZa9hhUP"
   },
   "outputs": [],
   "source": []
  },
  {
   "cell_type": "code",
   "execution_count": 1,
   "metadata": {
    "colab": {},
    "colab_type": "code",
    "id": "1A7fZUknc54L"
   },
   "outputs": [
    {
     "ename": "ModuleNotFoundError",
     "evalue": "No module named 'torch'",
     "traceback": [
      "\u001b[1;31m---------------------------------------------------------------------------\u001b[0m",
      "\u001b[1;31mModuleNotFoundError\u001b[0m                       Traceback (most recent call last)",
      "\u001b[1;32m<ipython-input-1-752550da12ec>\u001b[0m in \u001b[0;36m<module>\u001b[1;34m\u001b[0m\n\u001b[0;32m      1\u001b[0m \u001b[1;31m#Import necessary packages, torch, numpy, pylab\u001b[0m\u001b[1;33m\u001b[0m\u001b[1;33m\u001b[0m\u001b[1;33m\u001b[0m\u001b[0m\n\u001b[1;32m----> 2\u001b[1;33m \u001b[1;32mimport\u001b[0m \u001b[0mtorch\u001b[0m\u001b[1;33m\u001b[0m\u001b[1;33m\u001b[0m\u001b[0m\n\u001b[0m\u001b[0;32m      3\u001b[0m \u001b[1;32mfrom\u001b[0m \u001b[0mtorch\u001b[0m\u001b[1;33m.\u001b[0m\u001b[0mautograd\u001b[0m \u001b[1;32mimport\u001b[0m \u001b[0mVariable\u001b[0m\u001b[1;33m\u001b[0m\u001b[1;33m\u001b[0m\u001b[0m\n\u001b[0;32m      4\u001b[0m \u001b[1;32mimport\u001b[0m \u001b[0mnumpy\u001b[0m \u001b[1;32mas\u001b[0m \u001b[0mnp\u001b[0m\u001b[1;33m\u001b[0m\u001b[1;33m\u001b[0m\u001b[0m\n\u001b[0;32m      5\u001b[0m \u001b[1;32mimport\u001b[0m \u001b[0mmatplotlib\u001b[0m\u001b[1;33m.\u001b[0m\u001b[0mpyplot\u001b[0m \u001b[1;32mas\u001b[0m \u001b[0mplt\u001b[0m\u001b[1;33m\u001b[0m\u001b[1;33m\u001b[0m\u001b[0m\n",
      "\u001b[1;31mModuleNotFoundError\u001b[0m: No module named 'torch'"
     ],
     "output_type": "error"
    }
   ],
   "source": [
    "#Import necessary packages, torch, numpy, pylab\n",
    "import torch\n",
    "from torch.autograd import Variable\n",
    "import numpy as np\n",
    "import matplotlib.pyplot as plt\n",
    "import torch.nn.init as init"
   ]
  },
  {
   "cell_type": "markdown",
   "metadata": {
    "colab_type": "text",
    "id": "LDRQBcuic54b"
   },
   "source": [
    "**Definición de hiperparámetros**\n",
    "\n",
    "\n",
    "\n",
    "\n",
    "\n",
    "\n",
    "\n",
    "\n"
   ]
  },
  {
   "cell_type": "code",
   "execution_count": 26,
   "metadata": {
    "colab": {},
    "colab_type": "code",
    "id": "n3pdRPYjc54f"
   },
   "outputs": [],
   "source": [
    "#type for tensors\n",
    "dtype = torch.FloatTensor\n",
    "#context and input layer concatenated size, hidden layer dimension\n",
    "inputLayerSize, hiddenLayerSize, outputLayerSize = 3, 3, 1\n",
    "#number of epochs for training\n",
    "epochs = 1000\n",
    "#model learning rate\n",
    "learningRate = 1\n",
    "sigmoid = torch.nn.Sigmoid()\n",
    "#sequence of the wave to estimate\n",
    "sequenceLength = 100;\n"
   ]
  },
  {
   "cell_type": "markdown",
   "metadata": {
    "colab_type": "text",
    "id": "2LuIU2gKc54q"
   },
   "source": [
    "** Creación de los datos**\n",
    "\n",
    "Se crean datos sinusoidales, para hacer la red de regresión\n",
    "\n",
    "\n"
   ]
  },
  {
   "cell_type": "code",
   "execution_count": 22,
   "metadata": {
    "colab": {},
    "colab_type": "code",
    "id": "famXOdk1c54s"
   },
   "outputs": [],
   "source": [
    "\n",
    "\"\"\"\n",
    "Creates the input and ground truth data\n",
    "@param sequenceLength, sequence length to generate\n",
    "@return yInput and yTarget\n",
    "\"\"\"\n",
    "def createInputAndGroundTruthData(sequenceLength):\n",
    " \n",
    "    return (XInput, YInput)\n",
    "  \n",
    "\n",
    "def createXORData():\n",
    "  \n",
    "  return (XInput, YInput);\n",
    "  "
   ]
  },
  {
   "cell_type": "markdown",
   "metadata": {
    "colab_type": "text",
    "id": "CUZeVW8Bc548"
   },
   "source": [
    "** Parámetros del modelo perceptrón multicapa a estimar **\n",
    "\n",
    "Parámetros a estimar del modelo.\n"
   ]
  },
  {
   "cell_type": "code",
   "execution_count": 23,
   "metadata": {
    "colab": {},
    "colab_type": "code",
    "id": "0Ip6S2Tic54_"
   },
   "outputs": [],
   "source": [
    "\"\"\"\n",
    "Creates the matrices for the Elman model, in this case W1 and V\n",
    "@param contextConcatInputLayerSize\n",
    "@param hiddenLayerSize\n",
    "@param outputLayerSize\n",
    "@return W1 and V parameter matrices\n",
    "\"\"\"\n",
    "def createMultilayerPerceptronParameters(inputLayerSize, hiddenLayerSize, outputLayerSize):\n",
    "    \n",
    "    \n",
    "    return (Wo, Ws)\n",
    "\n",
    "\n",
    "\n",
    "def createMultilayerPerceptronParametersTest(inputLayerSize, hiddenLayerSize, outputLayerSize):\n",
    "   \n",
    "    \n",
    "    return (Wo, Ws)"
   ]
  },
  {
   "cell_type": "markdown",
   "metadata": {
    "colab_type": "text",
    "id": "TuB0Hffoc55F"
   },
   "source": [
    "** Pasada hacia adelante **\n",
    "\n",
    "Forward pass\n",
    "\n",
    "\n"
   ]
  },
  {
   "cell_type": "code",
   "execution_count": 24,
   "metadata": {
    "colab": {},
    "colab_type": "code",
    "id": "nlgw2nLYc55I"
   },
   "outputs": [],
   "source": [
    "\"\"\"\n",
    "Evaluates the model\n",
    "@param Wo, Hidden weights, inputLayerSize x hiddenLayerSize\n",
    "@param Ws, OutputNetValues, hiddenLayerSize x outputLayerSize\n",
    "@param X, NumSamples x inputLayerSize\n",
    "@return HiddenOutput: NumSamples x  hiddenLayerSize, OutputNetValues\n",
    "\"\"\"\n",
    "def forwardPass(Wo, Ws, X):\n",
    "\n",
    "      \n",
    "  return (HiddenOutput, OutputNetValues, Output);\n",
    "\n",
    "\"\"\"\n",
    "Evaluates the error for a given set of outputs, and target values\n",
    "@param T, target values: Samples x inputLayerSize\n",
    "@param Yestim, model output: Samples x inputLayerSize\n",
    "@return error, scalar\n",
    "\"\"\"\n",
    "def evaluateError(Yestim, T):\n",
    "\n",
    "  return error;\n",
    "\n",
    "\"\"\"\n",
    "Updates the output layer weights\n",
    "@param Output: NumSamples x outputLayerSize\n",
    "@param T: NumSamples x outputLayerSize\n",
    "@param HiddenOutput: NumSamples x  hiddenLayerSize\n",
    "@param Ws, OutputNetValues, hiddenLayerSize x outputLayerSize\n",
    "\"\"\"\n",
    "def updateOutputWeights(Ws, HiddenOutput, T, Output, alpha):\n",
    "  \n",
    "    \n",
    "  return (deltaS, Wsn)\n",
    "\n",
    "\n",
    "\"\"\"\n",
    "Updates hidden layer weights\n",
    "@param deltaS: Numsamples x outputLayerSize\n",
    "@param Ws: hiddenLayerSize x outputLayerSize\n",
    "@param HiddenOutput: NumSamples x  hiddenLayerSize\n",
    "@param X: NumSamples x inputLayerSize\n",
    "\"\"\"\n",
    "def updateHiddenWeights(X, Wo, Ws, deltaS, HiddenOutput, alpha):\n",
    "  \n",
    "  return Won;\n",
    "  \n",
    "\n",
    "\n",
    "  "
   ]
  },
  {
   "cell_type": "markdown",
   "metadata": {
    "colab_type": "text",
    "id": "aCz_mwucc55P"
   },
   "source": [
    "** Ejecucion del Modelo **\n",
    "\n",
    "Funcion principal del programa\n"
   ]
  },
  {
   "cell_type": "code",
   "execution_count": 27,
   "metadata": {
    "colab": {
     "base_uri": "https://localhost:8080/",
     "height": 34898.0
    },
    "colab_type": "code",
    "id": "tgy5cRh6c55R",
    "outputId": "a9380aaa-d4dc-48ec-a2e1-0fe9a6ca0f58"
   },
   "outputs": [
    {
     "name": "stdout",
     "output_type": "stream",
     "text": [
      "X  tensor([[1., 0., 0.],\n",
      "        [1., 0., 1.],\n",
      "        [1., 1., 0.],\n",
      "        [1., 1., 1.]])\n",
      "T  tensor([[0.],\n",
      "        [1.],\n",
      "        [1.],\n",
      "        [0.]])\n",
      "Current epoch:  0  and error:  tensor([1.2323])\n",
      "Current epoch:  10  and error:  tensor([1.0026])\n",
      "Current epoch:  20  and error:  tensor([1.0021])\n",
      "Current epoch:  30  and error:  tensor([1.0017])\n",
      "Current epoch:  40  and error:  tensor([1.0014])\n",
      "Current epoch:  50  and error:  tensor([1.0011])\n",
      "Current epoch:  60  and error:  tensor([1.0009])\n",
      "Current epoch:  70  and error:  tensor([1.0007])\n",
      "Current epoch:  80  and error:  tensor([1.0005])\n",
      "Current epoch:  90  and error:  tensor([1.0004])\n",
      "Current epoch:  100  and error:  tensor([1.0003])\n",
      "Current epoch:  110  and error:  tensor([1.0001])\n",
      "Current epoch:  120  and error:  tensor([1.0000])\n",
      "Current epoch:  130  and error:  tensor([0.9999])\n",
      "Current epoch:  140  and error:  tensor([0.9998])\n",
      "Current epoch:  150  and error:  tensor([0.9997])\n",
      "Current epoch:  160  and error:  tensor([0.9996])\n",
      "Current epoch:  170  and error:  tensor([0.9994])\n",
      "Current epoch:  180  and error:  tensor([0.9993])\n",
      "Current epoch:  190  and error:  tensor([0.9992])\n",
      "Current epoch:  200  and error:  tensor([0.9990])\n",
      "Current epoch:  210  and error:  tensor([0.9988])\n",
      "Current epoch:  220  and error:  tensor([0.9986])\n",
      "Current epoch:  230  and error:  tensor([0.9983])\n",
      "Current epoch:  240  and error:  tensor([0.9980])\n",
      "Current epoch:  250  and error:  tensor([0.9977])\n",
      "Current epoch:  260  and error:  tensor([0.9972])\n",
      "Current epoch:  270  and error:  tensor([0.9967])\n",
      "Current epoch:  280  and error:  tensor([0.9961])\n",
      "Current epoch:  290  and error:  tensor([0.9953])\n",
      "Current epoch:  300  and error:  tensor([0.9944])\n",
      "Current epoch:  310  and error:  tensor([0.9933])\n",
      "Current epoch:  320  and error:  tensor([0.9918])\n",
      "Current epoch:  330  and error:  tensor([0.9900])\n",
      "Current epoch:  340  and error:  tensor([0.9878])\n",
      "Current epoch:  350  and error:  tensor([0.9851])\n",
      "Current epoch:  360  and error:  tensor([0.9817])\n",
      "Current epoch:  370  and error:  tensor([0.9775])\n",
      "Current epoch:  380  and error:  tensor([0.9724])\n",
      "Current epoch:  390  and error:  tensor([0.9661])\n",
      "Current epoch:  400  and error:  tensor([0.9584])\n",
      "Current epoch:  410  and error:  tensor([0.9491])\n",
      "Current epoch:  420  and error:  tensor([0.9380])\n",
      "Current epoch:  430  and error:  tensor([0.9250])\n",
      "Current epoch:  440  and error:  tensor([0.9099])\n",
      "Current epoch:  450  and error:  tensor([0.8930])\n",
      "Current epoch:  460  and error:  tensor([0.8744])\n",
      "Current epoch:  470  and error:  tensor([0.8546])\n",
      "Current epoch:  480  and error:  tensor([0.8343])\n",
      "Current epoch:  490  and error:  tensor([0.8140])\n",
      "Current epoch:  500  and error:  tensor([0.7940])\n",
      "Current epoch:  510  and error:  tensor([0.7747])\n",
      "Current epoch:  520  and error:  tensor([0.7560])\n",
      "Current epoch:  530  and error:  tensor([0.7378])\n",
      "Current epoch:  540  and error:  tensor([0.7197])\n",
      "Current epoch:  550  and error:  tensor([0.7014])\n",
      "Current epoch:  560  and error:  tensor([0.6822])\n",
      "Current epoch:  570  and error:  tensor([0.6612])\n",
      "Current epoch:  580  and error:  tensor([0.6373])\n",
      "Current epoch:  590  and error:  tensor([0.6091])\n",
      "Current epoch:  600  and error:  tensor([0.5752])\n",
      "Current epoch:  610  and error:  tensor([0.5347])\n",
      "Current epoch:  620  and error:  tensor([0.4883])\n",
      "Current epoch:  630  and error:  tensor([0.4375])\n",
      "Current epoch:  640  and error:  tensor([0.3853])\n",
      "Current epoch:  650  and error:  tensor([0.3345])\n",
      "Current epoch:  660  and error:  tensor([0.2879])\n",
      "Current epoch:  670  and error:  tensor([0.2469])\n",
      "Current epoch:  680  and error:  tensor([0.2120])\n",
      "Current epoch:  690  and error:  tensor([0.1828])\n",
      "Current epoch:  700  and error:  tensor([0.1588])\n",
      "Current epoch:  710  and error:  tensor([0.1390])\n",
      "Current epoch:  720  and error:  tensor([0.1226])\n",
      "Current epoch:  730  and error:  tensor([0.1091])\n",
      "Current epoch:  740  and error:  tensor([0.0977])\n",
      "Current epoch:  750  and error:  tensor([0.0882])\n",
      "Current epoch:  760  and error:  tensor([0.0801])\n",
      "Current epoch:  770  and error:  tensor([0.0731])\n",
      "Current epoch:  780  and error:  tensor([0.0672])\n",
      "Current epoch:  790  and error:  tensor([0.0620])\n",
      "Current epoch:  800  and error:  tensor([0.0575])\n",
      "Current epoch:  810  and error:  tensor([0.0535])\n",
      "Current epoch:  820  and error:  tensor([0.0500])\n",
      "Current epoch:  830  and error:  tensor([0.0468])\n",
      "Current epoch:  840  and error:  tensor([0.0440])\n",
      "Current epoch:  850  and error:  tensor([0.0415])\n",
      "Current epoch:  860  and error:  tensor([0.0392])\n",
      "Current epoch:  870  and error:  tensor([0.0372])\n",
      "Current epoch:  880  and error:  tensor([0.0353])\n",
      "Current epoch:  890  and error:  tensor([0.0336])\n",
      "Current epoch:  900  and error:  tensor([0.0321])\n",
      "Current epoch:  910  and error:  tensor([0.0306])\n",
      "Current epoch:  920  and error:  tensor([0.0293])\n",
      "Current epoch:  930  and error:  tensor([0.0281])\n",
      "Current epoch:  940  and error:  tensor([0.0269])\n",
      "Current epoch:  950  and error:  tensor([0.0259])\n",
      "Current epoch:  960  and error:  tensor([0.0249])\n",
      "Current epoch:  970  and error:  tensor([0.0240])\n",
      "Current epoch:  980  and error:  tensor([0.0232])\n",
      "Current epoch:  990  and error:  tensor([0.0224])\n"
     ]
    }
   ],
   "source": [
    "def pruebaXOR():\n",
    "    \n",
    "    \n",
    "def pruebaPesos():\n",
    "  \n",
    "\"\"\"\n",
    "Funcion principal\n",
    "\"\"\"\n",
    "def main():\n",
    "    pruebaXOR()\n",
    "\n",
    "if __name__ == '__main__':\n",
    "    main()"
   ]
  },
  {
   "cell_type": "code",
   "execution_count": 19,
   "metadata": {},
   "outputs": [
    {
     "name": "stdout",
     "output_type": "stream",
     "text": [
      "tensor([0.5000])\n"
     ]
    }
   ],
   "source": [
    "print(sigmoid(torch.FloatTensor([0])))"
   ]
  },
  {
   "cell_type": "markdown",
   "metadata": {
    "colab_type": "text",
    "id": "7zRjYoh-c55c"
   },
   "source": []
  }
 ],
 "metadata": {
  "colab": {
   "collapsed_sections": [],
   "name": "PerceptronMulticapa.ipynb",
   "provenance": [],
   "version": "0.3.2"
  },
  "kernelspec": {
   "display_name": "Python 3",
   "language": "python",
   "name": "python3"
  },
  "language_info": {
   "codemirror_mode": {
    "name": "ipython",
    "version": 3
   },
   "file_extension": ".py",
   "mimetype": "text/x-python",
   "name": "python",
   "nbconvert_exporter": "python",
   "pygments_lexer": "ipython3",
   "version": "3.7.3"
  }
 },
 "nbformat": 4,
 "nbformat_minor": 1
}
